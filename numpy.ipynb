{
 "cells": [
  {
   "cell_type": "code",
   "execution_count": 1,
   "id": "a09e7301",
   "metadata": {},
   "outputs": [],
   "source": [
    "import numpy as np\n"
   ]
  },
  {
   "cell_type": "code",
   "execution_count": 14,
   "id": "17fa59ac",
   "metadata": {},
   "outputs": [
    {
     "name": "stdout",
     "output_type": "stream",
     "text": [
      "(2, 3, 4)\n",
      "3\n",
      "24\n",
      "int32\n"
     ]
    }
   ],
   "source": [
    "a = np.array([1,2,3,4,5])\n",
    "\n",
    "\n",
    "#multidimensional arrays\n",
    "a_mul = np.array([[[1,2,3,1],\n",
    "                [4,5,6,1],\n",
    "                [7,8,9,1]],\n",
    "                  [[1,1,1,1],\n",
    "                  [1,1,1,1],\n",
    "                  [1,1,1,1]]])\n",
    "print(a_mul.shape)\n",
    "print(a_mul.ndim)\n",
    "print(a_mul.size)\n",
    "print(a_mul.dtype)"
   ]
  },
  {
   "cell_type": "code",
   "execution_count": 21,
   "id": "a9ad68a4",
   "metadata": {},
   "outputs": [
    {
     "name": "stdout",
     "output_type": "stream",
     "text": [
      "int32\n",
      "int32\n"
     ]
    }
   ],
   "source": [
    "a_diff = np.array([[1,2,3],\n",
    "         [4, \"5\", 6],\n",
    "         [7,8,9]], dtype = np.int32)\n",
    "print(a_diff.dtype)\n",
    "print(a_diff[0][0].dtype)"
   ]
  },
  {
   "cell_type": "code",
   "execution_count": 24,
   "id": "25fc0e73",
   "metadata": {},
   "outputs": [
    {
     "name": "stdout",
     "output_type": "stream",
     "text": [
      "object\n",
      "<class 'int'>\n"
     ]
    }
   ],
   "source": [
    "d = {'1': 'A'}\n",
    "a_diff = np.array([[1,2,3],\n",
    "         [4, d, 6],\n",
    "         [7,8,9]])\n",
    "print(a_diff.dtype)\n",
    "print(type(a_diff[0][0]))"
   ]
  },
  {
   "cell_type": "code",
   "execution_count": 25,
   "id": "0e65cee6",
   "metadata": {},
   "outputs": [
    {
     "data": {
      "text/plain": [
       "array([[[9, 9, 9, 9],\n",
       "        [9, 9, 9, 9],\n",
       "        [9, 9, 9, 9]],\n",
       "\n",
       "       [[9, 9, 9, 9],\n",
       "        [9, 9, 9, 9],\n",
       "        [9, 9, 9, 9]]])"
      ]
     },
     "execution_count": 25,
     "metadata": {},
     "output_type": "execute_result"
    }
   ],
   "source": [
    "#array with defualt values\n",
    "a = np.full((2,3,4), 9)\n",
    "a"
   ]
  },
  {
   "cell_type": "code",
   "execution_count": 27,
   "id": "bf716ee8",
   "metadata": {},
   "outputs": [
    {
     "data": {
      "text/plain": [
       "array([[[0., 0.],\n",
       "        [0., 0.],\n",
       "        [0., 0.],\n",
       "        [0., 0.],\n",
       "        [0., 0.]],\n",
       "\n",
       "       [[0., 0.],\n",
       "        [0., 0.],\n",
       "        [0., 0.],\n",
       "        [0., 0.],\n",
       "        [0., 0.]],\n",
       "\n",
       "       [[0., 0.],\n",
       "        [0., 0.],\n",
       "        [0., 0.],\n",
       "        [0., 0.],\n",
       "        [0., 0.]],\n",
       "\n",
       "       [[0., 0.],\n",
       "        [0., 0.],\n",
       "        [0., 0.],\n",
       "        [0., 0.],\n",
       "        [0., 0.]],\n",
       "\n",
       "       [[0., 0.],\n",
       "        [0., 0.],\n",
       "        [0., 0.],\n",
       "        [0., 0.],\n",
       "        [0., 0.]],\n",
       "\n",
       "       [[0., 0.],\n",
       "        [0., 0.],\n",
       "        [0., 0.],\n",
       "        [0., 0.],\n",
       "        [0., 0.]],\n",
       "\n",
       "       [[0., 0.],\n",
       "        [0., 0.],\n",
       "        [0., 0.],\n",
       "        [0., 0.],\n",
       "        [0., 0.]],\n",
       "\n",
       "       [[0., 0.],\n",
       "        [0., 0.],\n",
       "        [0., 0.],\n",
       "        [0., 0.],\n",
       "        [0., 0.]],\n",
       "\n",
       "       [[0., 0.],\n",
       "        [0., 0.],\n",
       "        [0., 0.],\n",
       "        [0., 0.],\n",
       "        [0., 0.]],\n",
       "\n",
       "       [[0., 0.],\n",
       "        [0., 0.],\n",
       "        [0., 0.],\n",
       "        [0., 0.],\n",
       "        [0., 0.]]])"
      ]
     },
     "execution_count": 27,
     "metadata": {},
     "output_type": "execute_result"
    }
   ],
   "source": [
    "a = np.zeros((10,5,2))\n",
    "a"
   ]
  },
  {
   "cell_type": "code",
   "execution_count": 28,
   "id": "b7125ade",
   "metadata": {},
   "outputs": [
    {
     "data": {
      "text/plain": [
       "array([[[1., 1., 1.]],\n",
       "\n",
       "       [[1., 1., 1.]]])"
      ]
     },
     "execution_count": 28,
     "metadata": {},
     "output_type": "execute_result"
    }
   ],
   "source": [
    "a = np.ones((2,1,3))\n",
    "a"
   ]
  },
  {
   "cell_type": "code",
   "execution_count": 29,
   "id": "d63b5351",
   "metadata": {},
   "outputs": [
    {
     "data": {
      "text/plain": [
       "array([[[0., 0.],\n",
       "        [0., 0.]],\n",
       "\n",
       "       [[0., 0.],\n",
       "        [0., 0.]]])"
      ]
     },
     "execution_count": 29,
     "metadata": {},
     "output_type": "execute_result"
    }
   ],
   "source": [
    "a = np.empty((2,2,2))\n",
    "a"
   ]
  },
  {
   "cell_type": "code",
   "execution_count": 32,
   "id": "69a73ae5",
   "metadata": {},
   "outputs": [
    {
     "name": "stdout",
     "output_type": "stream",
     "text": [
      "[  0   5  10  15  20  25  30  35  40  45  50  55  60  65  70  75  80  85\n",
      "  90  95 100 105 110 115 120 125 130 135 140 145 150 155 160 165 170 175\n",
      " 180 185 190 195 200 205 210 215 220 225 230 235 240 245 250 255 260 265\n",
      " 270 275 280 285 290 295 300 305 310 315 320 325 330 335 340 345 350 355\n",
      " 360 365 370 375 380 385 390 395 400 405 410 415 420 425 430 435 440 445\n",
      " 450 455 460 465 470 475 480 485 490 495 500 505 510 515 520 525 530 535\n",
      " 540 545 550 555 560 565 570 575 580 585 590 595 600 605 610 615 620 625\n",
      " 630 635 640 645 650 655 660 665 670 675 680 685 690 695 700 705 710 715\n",
      " 720 725 730 735 740 745 750 755 760 765 770 775 780 785 790 795 800 805\n",
      " 810 815 820 825 830 835 840 845 850 855 860 865 870 875 880 885 890 895\n",
      " 900 905 910 915 920 925 930 935 940 945 950 955 960 965 970 975 980 985\n",
      " 990 995]\n"
     ]
    }
   ],
   "source": [
    "x_values = np.arange(0, 1000, 5)\n",
    "print(x_values)\n",
    "\n"
   ]
  },
  {
   "cell_type": "code",
   "execution_count": 34,
   "id": "b57deb12",
   "metadata": {},
   "outputs": [
    {
     "data": {
      "text/plain": [
       "array([  0.,  10.,  20.,  30.,  40.,  50.,  60.,  70.,  80.,  90., 100.])"
      ]
     },
     "execution_count": 34,
     "metadata": {},
     "output_type": "execute_result"
    }
   ],
   "source": [
    "x_values = np.linspace(0,100,11)\n",
    "x_values"
   ]
  },
  {
   "cell_type": "code",
   "execution_count": 35,
   "id": "1bcb838d",
   "metadata": {},
   "outputs": [
    {
     "name": "stdout",
     "output_type": "stream",
     "text": [
      "nan\n",
      "inf\n"
     ]
    }
   ],
   "source": [
    "print(np.nan)\n",
    "print(np.inf)"
   ]
  },
  {
   "cell_type": "code",
   "execution_count": 38,
   "id": "c1932abf",
   "metadata": {},
   "outputs": [
    {
     "name": "stdout",
     "output_type": "stream",
     "text": [
      "True\n",
      "[ True]\n"
     ]
    },
    {
     "name": "stderr",
     "output_type": "stream",
     "text": [
      "C:\\Users\\ishas\\AppData\\Local\\Temp\\ipykernel_23144\\3338874168.py:1: RuntimeWarning: invalid value encountered in sqrt\n",
      "  print(np.isnan(np.sqrt(-1)))\n",
      "C:\\Users\\ishas\\AppData\\Local\\Temp\\ipykernel_23144\\3338874168.py:2: RuntimeWarning: divide by zero encountered in divide\n",
      "  print(np.isinf(np.array([10])/0))\n"
     ]
    }
   ],
   "source": [
    "print(np.isnan(np.sqrt(-1)))\n",
    "print(np.isinf(np.array([10])/0))"
   ]
  },
  {
   "cell_type": "code",
   "execution_count": 45,
   "id": "d7a9c451",
   "metadata": {},
   "outputs": [
    {
     "name": "stdout",
     "output_type": "stream",
     "text": [
      "[[ 5  5]\n",
      " [10  5]]\n",
      "[[ 1 23]\n",
      " [ 2 23]]\n",
      "[ 0.84147098 -0.8462204 ]\n"
     ]
    }
   ],
   "source": [
    "#Mathematical Operations\n",
    "#l1 = [1,2,3,4,5]\n",
    "#l2 = [6,7,8,9,0]\n",
    "a1 = np.array([1,23])\n",
    "a2 = np.array([[1,1],\n",
    "             [2,1]])\n",
    "\n",
    "#print(l1*5)\n",
    "print(a2 *5)\n",
    "#print(l1+l2)\n",
    "print(a1*a2)\n",
    "print(np.sin(a1))"
   ]
  },
  {
   "cell_type": "code",
   "execution_count": 47,
   "id": "614a1f5b",
   "metadata": {},
   "outputs": [
    {
     "name": "stdout",
     "output_type": "stream",
     "text": [
      "[ 1 23  6 78  4  3  6  4  3]\n"
     ]
    }
   ],
   "source": [
    "#Array methods\n",
    "a1 = np.append(a1, [6,4,3])\n",
    "a1 = np.insert(a1, 3, [78])\n",
    "\n",
    "print(a1)"
   ]
  },
  {
   "cell_type": "code",
   "execution_count": 50,
   "id": "4f904b6b",
   "metadata": {},
   "outputs": [
    {
     "name": "stdout",
     "output_type": "stream",
     "text": [
      "[[2 1]]\n"
     ]
    }
   ],
   "source": [
    "#0-row, 1 - col\n",
    "print(np.delete(a2,0,0))"
   ]
  },
  {
   "cell_type": "code",
   "execution_count": 59,
   "id": "3b63a0b8",
   "metadata": {},
   "outputs": [
    {
     "name": "stdout",
     "output_type": "stream",
     "text": [
      "[[ 1  2  3  4  5  6]\n",
      " [ 7  8  9 10 11 12]]\n",
      "[[ 1]\n",
      " [ 2]\n",
      " [ 3]\n",
      " [ 4]\n",
      " [ 5]\n",
      " [ 6]\n",
      " [ 7]\n",
      " [ 8]\n",
      " [ 9]\n",
      " [10]\n",
      " [11]\n",
      " [12]]\n",
      "[ 1  2  3  4  5  6  7  8  9 10 11 12]\n"
     ]
    }
   ],
   "source": [
    "a3 = np.array([[1,2,3],\n",
    "              [4,5,6],\n",
    "              [7,8,9],\n",
    "              [10,11,12]])\n",
    "print(a3.reshape(2,6))\n",
    "print(a3.reshape(12,1))\n",
    "print(a3.reshape(12,))\n",
    "a_reshaped = a3.reshape((6,2))"
   ]
  },
  {
   "cell_type": "code",
   "execution_count": 64,
   "id": "275b8f22",
   "metadata": {},
   "outputs": [
    {
     "name": "stdout",
     "output_type": "stream",
     "text": [
      "[[ 1  2  3  4  5  6]\n",
      " [ 7  8  9 10 11 12]]\n",
      "[ 1  2  3  4  5  6  7  8  9 10 11 12]\n",
      "[ 1  2  3  4  5  6  7  8  9 10 11 12]\n"
     ]
    }
   ],
   "source": [
    "a3.resize(2,6)\n",
    "print(a3)\n",
    "print(a3.flatten())\n",
    "print(a3.ravel())"
   ]
  },
  {
   "cell_type": "code",
   "execution_count": 70,
   "id": "ca1f901e",
   "metadata": {},
   "outputs": [
    {
     "name": "stdout",
     "output_type": "stream",
     "text": [
      "[  1   2 100   4   5   6   7   8   9  10  11  12]\n",
      "[[  1   2 100   4   5   6]\n",
      " [  7   8   9  10  11  12]]\n",
      "[1, 2, 100, 4, 5, 6, 7, 8, 9, 10, 11, 12]\n"
     ]
    }
   ],
   "source": [
    "var1 = a3.flatten()\n",
    "#returns a flattened copy of the array\n",
    "var1[2]= 100\n",
    "print(var1)\n",
    "print(a3)\n",
    "\n",
    "var = [v for v in a3.flat]\n",
    "print(var)\n"
   ]
  },
  {
   "cell_type": "code",
   "execution_count": 73,
   "id": "c391dbe3",
   "metadata": {},
   "outputs": [
    {
     "name": "stdout",
     "output_type": "stream",
     "text": [
      "[  1   2 100   4   5   6   7   8   9  10  11  12]\n",
      "[[  1   2 100   4   5   6]\n",
      " [  7   8   9  10  11  12]]\n"
     ]
    }
   ],
   "source": [
    "# returns a flattened view of the array itself\n",
    "var1 = a3.ravel()\n",
    "var1[2]= 100\n",
    "print(var1)\n",
    "print(a3)\n"
   ]
  },
  {
   "cell_type": "code",
   "execution_count": 83,
   "id": "b0f1ae36",
   "metadata": {},
   "outputs": [
    {
     "name": "stdout",
     "output_type": "stream",
     "text": [
      "[[  1   7]\n",
      " [  2   8]\n",
      " [100   9]\n",
      " [  4  10]\n",
      " [  5  11]\n",
      " [  6  12]]\n",
      "[[  1   7]\n",
      " [  2   8]\n",
      " [100   9]\n",
      " [  4  10]\n",
      " [  5  11]\n",
      " [  6  12]]\n",
      "[[  1   7]\n",
      " [  2   8]\n",
      " [100   9]\n",
      " [  4  10]\n",
      " [  5  11]\n",
      " [  6  12]]\n"
     ]
    }
   ],
   "source": [
    "print(a3.transpose())\n",
    "print(a3.T)\n",
    "print(a3.swapaxes(0,1))"
   ]
  },
  {
   "cell_type": "code",
   "execution_count": 89,
   "id": "7fccd340",
   "metadata": {},
   "outputs": [
    {
     "data": {
      "text/plain": [
       "array([[ 1,  2,  3],\n",
       "       [ 4,  5,  6],\n",
       "       [ 7,  8,  9],\n",
       "       [10, 11, 12]])"
      ]
     },
     "execution_count": 89,
     "metadata": {},
     "output_type": "execute_result"
    }
   ],
   "source": [
    "#Splitting & Merging arrays\n",
    "a5 = np.array([[1,2,3],\n",
    "              [4,5,6]])\n",
    "               \n",
    "a6 = np.array([[7,8,9],\n",
    "              [10,11,12]])\n",
    "\n",
    "a7 = np.concatenate((a5,a6),axis = 0)\n",
    "a7\n",
    "               "
   ]
  },
  {
   "cell_type": "code",
   "execution_count": 93,
   "id": "95ba0f6e",
   "metadata": {},
   "outputs": [
    {
     "name": "stdout",
     "output_type": "stream",
     "text": [
      "[[[ 1  2  3]\n",
      "  [ 4  5  6]]\n",
      "\n",
      " [[ 7  8  9]\n",
      "  [10 11 12]]]\n"
     ]
    },
    {
     "data": {
      "text/plain": [
       "(2, 2, 3)"
      ]
     },
     "execution_count": 93,
     "metadata": {},
     "output_type": "execute_result"
    }
   ],
   "source": [
    "a_stack = np.stack((a5,a6))\n",
    "#stack adds new dimension\n",
    "print(a_stack)\n",
    "a_stack.shape"
   ]
  },
  {
   "cell_type": "code",
   "execution_count": 94,
   "id": "12392a26",
   "metadata": {},
   "outputs": [
    {
     "data": {
      "text/plain": [
       "array([[ 1,  2,  3,  7,  8,  9],\n",
       "       [ 4,  5,  6, 10, 11, 12]])"
      ]
     },
     "execution_count": 94,
     "metadata": {},
     "output_type": "execute_result"
    }
   ],
   "source": [
    "#hstack and vstack\n",
    "a_hstack = np.hstack((a5,a6))\n",
    "# same as a7 = np.concatenate((a5,a6),axis = 1)\n",
    "a_hstack"
   ]
  },
  {
   "cell_type": "code",
   "execution_count": 95,
   "id": "b56f3caa",
   "metadata": {},
   "outputs": [
    {
     "data": {
      "text/plain": [
       "array([[ 1,  2,  3],\n",
       "       [ 4,  5,  6],\n",
       "       [ 7,  8,  9],\n",
       "       [10, 11, 12]])"
      ]
     },
     "execution_count": 95,
     "metadata": {},
     "output_type": "execute_result"
    }
   ],
   "source": [
    "a_vstack = np.vstack((a5,a6))\n",
    "# same as a7 = np.concatenate((a5,a6),axis = 0)\n",
    "a_vstack"
   ]
  },
  {
   "cell_type": "code",
   "execution_count": 109,
   "id": "c9611efe",
   "metadata": {},
   "outputs": [
    {
     "name": "stdout",
     "output_type": "stream",
     "text": [
      "[array([[  1,   2, 100],\n",
      "       [  7,   8,   9]]), array([[ 4,  5,  6],\n",
      "       [10, 11, 12]])]\n"
     ]
    }
   ],
   "source": [
    "#splitting arrays\n",
    "print(np.split(a3,2,axis = 1))"
   ]
  },
  {
   "cell_type": "code",
   "execution_count": 110,
   "id": "78fae4f7",
   "metadata": {},
   "outputs": [
    {
     "name": "stdout",
     "output_type": "stream",
     "text": [
      "1\n",
      "100\n",
      "14.583333333333334\n",
      "25.96298112484175\n",
      "175\n",
      "7.5\n"
     ]
    }
   ],
   "source": [
    "#Aggregrate Functions\n",
    "print(a3.min())\n",
    "print(a3.max())\n",
    "print(a3.mean())\n",
    "print(a3.std())\n",
    "print(a3.sum())\n",
    "print(np.median(a3))"
   ]
  },
  {
   "cell_type": "code",
   "execution_count": 118,
   "id": "20536f99",
   "metadata": {},
   "outputs": [
    {
     "name": "stdout",
     "output_type": "stream",
     "text": [
      "[[[96 91 91 95]\n",
      "  [99 99 98 93]\n",
      "  [95 92 93 94]]\n",
      "\n",
      " [[92 97 91 98]\n",
      "  [90 94 92 93]\n",
      "  [92 99 90 97]]]\n"
     ]
    }
   ],
   "source": [
    "numbers = np.random.randint(90,100, size=(2,3,4))\n",
    "print(numbers)"
   ]
  },
  {
   "cell_type": "code",
   "execution_count": 120,
   "id": "8e2f960f",
   "metadata": {},
   "outputs": [
    {
     "data": {
      "text/plain": [
       "array([[8, 3, 5, 5, 9, 4, 6, 5, 4, 6],\n",
       "       [6, 4, 7, 5, 7, 6, 3, 6, 8, 5],\n",
       "       [5, 5, 5, 9, 4, 7, 3, 4, 4, 3],\n",
       "       [2, 5, 6, 5, 5, 3, 7, 4, 4, 7],\n",
       "       [4, 7, 3, 5, 6, 7, 6, 4, 4, 5]])"
      ]
     },
     "execution_count": 120,
     "metadata": {},
     "output_type": "execute_result"
    }
   ],
   "source": [
    "numbers = np.random.binomial(10,p=0.5, size = (5,10))\n",
    "numbers"
   ]
  },
  {
   "cell_type": "code",
   "execution_count": 121,
   "id": "d376ad0f",
   "metadata": {},
   "outputs": [
    {
     "data": {
      "text/plain": [
       "array([[169.75696954, 161.54345557, 140.84929746, 186.43424459,\n",
       "        167.82309708, 177.67352636, 201.59292353, 167.521516  ,\n",
       "        161.83355265, 156.9588567 ],\n",
       "       [167.53312805, 180.41367855, 155.00628778, 145.51173376,\n",
       "        168.72518231, 209.21806026, 180.14084061, 176.51705585,\n",
       "        182.21702517, 169.88456885],\n",
       "       [159.15413124, 140.08209698, 191.95287912, 183.45012508,\n",
       "        143.5289155 , 147.67007912, 158.42008418, 136.2070149 ,\n",
       "        165.26068971, 166.93649348],\n",
       "       [208.55996442, 152.17568573, 151.14529398, 169.34558438,\n",
       "        162.98932516, 175.33178236, 159.24840466, 170.80514277,\n",
       "        194.42664599, 169.39759016],\n",
       "       [164.7473232 , 169.95143999, 172.10142013, 156.84734102,\n",
       "        186.63083884, 176.29262873, 154.81117472, 168.52694078,\n",
       "        158.1725278 , 190.218223  ]])"
      ]
     },
     "execution_count": 121,
     "metadata": {},
     "output_type": "execute_result"
    }
   ],
   "source": [
    "numbers = np.random.normal(loc =170, scale=15, size = (5,10))\n",
    "numbers"
   ]
  },
  {
   "cell_type": "code",
   "execution_count": 122,
   "id": "c613c69a",
   "metadata": {},
   "outputs": [
    {
     "data": {
      "text/plain": [
       "array([[5, 5, 4],\n",
       "       [4, 5, 4]])"
      ]
     },
     "execution_count": 122,
     "metadata": {},
     "output_type": "execute_result"
    }
   ],
   "source": [
    "numbers = np.random.choice([3,4,5,6], size= (2,3))\n",
    "numbers"
   ]
  },
  {
   "cell_type": "code",
   "execution_count": 123,
   "id": "02a510b3",
   "metadata": {},
   "outputs": [],
   "source": [
    "np.save('myarray.npy', a3)"
   ]
  },
  {
   "cell_type": "code",
   "execution_count": 124,
   "id": "cf7fb67c",
   "metadata": {},
   "outputs": [
    {
     "data": {
      "text/plain": [
       "array([[  1,   2, 100,   4,   5,   6],\n",
       "       [  7,   8,   9,  10,  11,  12]])"
      ]
     },
     "execution_count": 124,
     "metadata": {},
     "output_type": "execute_result"
    }
   ],
   "source": [
    "a = np.load('myarray.npy')\n",
    "a"
   ]
  },
  {
   "cell_type": "code",
   "execution_count": 125,
   "id": "7e9feffd",
   "metadata": {},
   "outputs": [],
   "source": [
    "np.savetxt('myarray.csv', a3, delimiter = \",\")"
   ]
  },
  {
   "cell_type": "code",
   "execution_count": 126,
   "id": "fc52ef95",
   "metadata": {},
   "outputs": [
    {
     "data": {
      "text/plain": [
       "array([[  1.,   2., 100.,   4.,   5.,   6.],\n",
       "       [  7.,   8.,   9.,  10.,  11.,  12.]])"
      ]
     },
     "execution_count": 126,
     "metadata": {},
     "output_type": "execute_result"
    }
   ],
   "source": [
    "a = np.loadtxt('myarray.csv', delimiter = \",\")\n",
    "a"
   ]
  }
 ],
 "metadata": {
  "kernelspec": {
   "display_name": "Python 3 (ipykernel)",
   "language": "python",
   "name": "python3"
  },
  "language_info": {
   "codemirror_mode": {
    "name": "ipython",
    "version": 3
   },
   "file_extension": ".py",
   "mimetype": "text/x-python",
   "name": "python",
   "nbconvert_exporter": "python",
   "pygments_lexer": "ipython3",
   "version": "3.11.5"
  }
 },
 "nbformat": 4,
 "nbformat_minor": 5
}
